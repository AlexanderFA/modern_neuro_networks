{
 "cells": [
  {
   "cell_type": "code",
   "execution_count": 47,
   "metadata": {
    "collapsed": true
   },
   "outputs": [],
   "source": [
    "import torch\n",
    "import torch.nn as nn\n",
    "from torchvision import datasets, transforms\n",
    "from torch.utils.data import DataLoader\n",
    "import torch.nn.functional as F\n",
    "import time"
   ]
  },
  {
   "cell_type": "code",
   "execution_count": 74,
   "outputs": [],
   "source": [
    "# transform = transforms.Compose([transforms.ToTensor(), transforms.Normalize((0.1307,), (0.3081,))])\n",
    "transform = transforms.Compose([transforms.ToTensor()])\n",
    "train_dataset = datasets.MNIST(root='./data', train=True, transform=transform, download=True)\n",
    "train_loader = DataLoader(train_dataset, batch_size=128, shuffle=True)\n",
    "test_dataset = datasets.MNIST(root='./data', train=False, transform=transform, download=True)\n",
    "test_loader = DataLoader(dataset=test_dataset, batch_size=128, shuffle=False)"
   ],
   "metadata": {
    "collapsed": false
   }
  },
  {
   "cell_type": "code",
   "execution_count": 75,
   "outputs": [],
   "source": [
    "class Encoder(nn.Module):\n",
    "    def __init__(self, message_size):\n",
    "        super(Encoder, self).__init__()\n",
    "        self.fc1 = nn.Linear(28 * 28, 512)\n",
    "        self.fc2 = nn.Linear(512, message_size)\n",
    "\n",
    "    def forward(self, picture):\n",
    "        picture = torch.flatten(picture, start_dim=1)\n",
    "        picture = torch.relu(self.fc1(picture))\n",
    "        return self.fc2(picture)"
   ],
   "metadata": {
    "collapsed": false
   }
  },
  {
   "cell_type": "code",
   "execution_count": 76,
   "outputs": [],
   "source": [
    "class Decoder(nn.Module):\n",
    "    def __init__(self, message_size):\n",
    "        super(Decoder, self).__init__()\n",
    "        self.fc1 = nn.Linear(message_size, 512)\n",
    "        self.fc2 = nn.Linear(512, 28 * 28)\n",
    "\n",
    "    def forward(self, picture):\n",
    "        picture = torch.relu(self.fc1(picture))\n",
    "        picture = torch.sigmoid(self.fc2(picture))\n",
    "        return picture.reshape((-1, 1, 28, 28))"
   ],
   "metadata": {
    "collapsed": false
   }
  },
  {
   "cell_type": "code",
   "execution_count": 77,
   "outputs": [],
   "source": [
    "class Autoencoder(nn.Module):\n",
    "    def __init__(self, message_size):\n",
    "        super(Autoencoder, self).__init__()\n",
    "        self.encoder = Encoder(message_size)\n",
    "        self.decoder = Decoder(message_size)\n",
    "\n",
    "    def forward(self, picture):\n",
    "        picture = self.encoder(picture)\n",
    "        return self.decoder(picture)"
   ],
   "metadata": {
    "collapsed": false
   }
  },
  {
   "cell_type": "code",
   "execution_count": 155,
   "outputs": [],
   "source": [
    "def train(autoencoder_model, epochs=5, step=0.1):\n",
    "    criterion = nn.MSELoss() # nn.CrossEntropyLoss()\n",
    "    optimizer = torch.optim.Adam(autoencoder_model.parameters(), lr=step)\n",
    "    for epoch in range(epochs):\n",
    "        running_loss = 0.0\n",
    "        for i, (images, labels) in enumerate(train_loader):\n",
    "            optimizer.zero_grad()\n",
    "            outputs = autoencoder_model(images)\n",
    "            # loss = ((images - outputs) ** 2).sum()\n",
    "            loss = criterion(outputs, images)\n",
    "            loss.backward()\n",
    "            optimizer.step()\n",
    "            running_loss += loss.item() * images.size(0)\n",
    "        print(f\"Epoch [{epoch+1}/{epochs}], Loss: {running_loss/len(train_loader)}\")"
   ],
   "metadata": {
    "collapsed": false
   }
  },
  {
   "cell_type": "code",
   "execution_count": 156,
   "outputs": [
    {
     "name": "stdout",
     "output_type": "stream",
     "text": [
      "Epoch [1/10], Loss: 4.22429252922662\n",
      "Epoch [2/10], Loss: 1.4875383229652193\n",
      "Epoch [3/10], Loss: 1.1726971417983203\n",
      "Epoch [4/10], Loss: 1.0406302268317005\n",
      "Epoch [5/10], Loss: 0.9571864700266547\n",
      "Epoch [6/10], Loss: 0.897565286900443\n",
      "Epoch [7/10], Loss: 0.8510420710039037\n",
      "Epoch [8/10], Loss: 0.8150464718593463\n",
      "Epoch [9/10], Loss: 0.7870395601685367\n",
      "Epoch [10/10], Loss: 0.7615064760324544\n"
     ]
    }
   ],
   "source": [
    "autoencoder = Autoencoder(28)\n",
    "train(autoencoder, epochs=10, step=0.001)\n",
    "# torch.save(autoencoder.state_dict(), \"autoencoder.pth\")"
   ],
   "metadata": {
    "collapsed": false
   }
  },
  {
   "cell_type": "code",
   "execution_count": 157,
   "outputs": [],
   "source": [
    "def assessment(autoencoder_model):\n",
    "    total_loss = 0.0\n",
    "    num_samples = 0\n",
    "    device = torch.device(\"cuda\" if torch.cuda.is_available() else \"cpu\")\n",
    "    autoencoder_model.eval()\n",
    "    with torch.no_grad():\n",
    "        for images, _ in test_loader:\n",
    "            images = images.to(device)\n",
    "            reconstructed_images = autoencoder_model(images)\n",
    "            loss = F.mse_loss(reconstructed_images, images, reduction='sum')\n",
    "            total_loss += loss.item()\n",
    "            num_samples += images.size(0)\n",
    "    mean_loss = total_loss / num_samples\n",
    "\n",
    "    return mean_loss"
   ],
   "metadata": {
    "collapsed": false
   }
  },
  {
   "cell_type": "code",
   "execution_count": 158,
   "outputs": [
    {
     "name": "stdout",
     "output_type": "stream",
     "text": [
      "Потери автоенкодера при проверке на тестовом наборе: 4.71%\n"
     ]
    }
   ],
   "source": [
    "print(f'Потери автоенкодера при проверке на тестовом наборе: {assessment(autoencoder):.2f}%')"
   ],
   "metadata": {
    "collapsed": false
   }
  },
  {
   "cell_type": "code",
   "execution_count": 159,
   "outputs": [],
   "source": [
    "class SimpleNN(nn.Module):\n",
    "    def __init__(self):\n",
    "        super(SimpleNN, self).__init__()\n",
    "        self.flatten = nn.Flatten() # ф-ция преобразование изображения в вектор\n",
    "        self.fc1 = nn.Linear(28 * 28, 512) # полносвязанный слой с 128 нейронами\n",
    "        self.fc2 = nn.Linear(512, 10) # выходной слой с 10 нейронами (для 10 цифр)\n",
    "\n",
    "    def forward(self, x):\n",
    "        x = self.flatten(x) # разворачиваем в один вектор\n",
    "        x = torch.relu(self.fc1(x)) # Применение ReLU к выходу первого слоя\n",
    "        return self.fc2(x) # Применение второго полносвязанного слоя"
   ],
   "metadata": {
    "collapsed": false
   }
  },
  {
   "cell_type": "code",
   "execution_count": 160,
   "outputs": [],
   "source": [
    "digit_recognizer = SimpleNN()\n",
    "#autoencoder.load_state_dict(torch.load(\"autoencoder.pth\"))\n",
    "with torch.no_grad():\n",
    "    digit_recognizer.fc1.weight = autoencoder.encoder.fc1.weight\n",
    "    digit_recognizer.fc1.bias = autoencoder.encoder.fc1.bias\n",
    "    digit_recognizer.fc2.weight = autoencoder.encoder.fc2.weight\n",
    "    digit_recognizer.fc2.bias = autoencoder.encoder.fc2.bias"
   ],
   "metadata": {
    "collapsed": false
   }
  },
  {
   "cell_type": "code",
   "execution_count": 161,
   "outputs": [],
   "source": [
    "def assessment2(model):\n",
    "    model.eval()\n",
    "    as_total, as_correct = 0, 0\n",
    "    with torch.no_grad():\n",
    "        for as_images, as_labels in test_loader:\n",
    "            as_outputs = model(as_images)\n",
    "            _, as_predicted = torch.max(as_outputs.data, 1)\n",
    "            as_total += as_labels.size(0)\n",
    "            as_correct += (as_predicted == as_labels).sum().item()\n",
    "\n",
    "        as_accuracy = 100 * as_correct / as_total\n",
    "    return as_accuracy"
   ],
   "metadata": {
    "collapsed": false
   }
  },
  {
   "cell_type": "code",
   "execution_count": 162,
   "outputs": [
    {
     "name": "stdout",
     "output_type": "stream",
     "text": [
      "Точность FC модели при проверке на тестовом наборе: 1.37%\n"
     ]
    }
   ],
   "source": [
    "print(f'Точность FC модели при проверке на тестовом наборе: {assessment2(digit_recognizer):.2f}%')"
   ],
   "metadata": {
    "collapsed": false
   }
  },
  {
   "cell_type": "code",
   "execution_count": 163,
   "outputs": [],
   "source": [
    "def fc_learn(fc_model, epochs=5, step=0.1):\n",
    "    fc_criterion = nn.CrossEntropyLoss()\n",
    "    fc_optimizer = torch.optim.Adam(fc_model.parameters(), lr=step)\n",
    "    for epoch in range(epochs):\n",
    "        fc_model.train()\n",
    "        for fc_i, (fc_images, fc_labels) in enumerate(train_loader):\n",
    "            fc_optimizer.zero_grad()  # Обнуление градиентов\n",
    "            fc_outputs = fc_model(fc_images)  # Получение выхода модели\n",
    "            fc_loss = fc_criterion(fc_outputs, fc_labels)  # Вычисление потерь\n",
    "            fc_loss.backward()  # Обратное распространение ошибки\n",
    "            fc_optimizer.step()  # Обновление весов"
   ],
   "metadata": {
    "collapsed": false
   }
  },
  {
   "cell_type": "code",
   "execution_count": 164,
   "outputs": [
    {
     "name": "stdout",
     "output_type": "stream",
     "text": [
      "Точность FC модели при проверке на тестовом наборе: 96.84%\n"
     ]
    }
   ],
   "source": [
    "fc_learn(digit_recognizer, 2, 0.01)\n",
    "print(f'Точность FC модели при проверке на тестовом наборе: {assessment2(digit_recognizer):.2f}%')"
   ],
   "metadata": {
    "collapsed": false
   }
  },
  {
   "cell_type": "code",
   "execution_count": null,
   "outputs": [],
   "source": [],
   "metadata": {
    "collapsed": false
   }
  }
 ],
 "metadata": {
  "kernelspec": {
   "display_name": "Python 3",
   "language": "python",
   "name": "python3"
  },
  "language_info": {
   "codemirror_mode": {
    "name": "ipython",
    "version": 2
   },
   "file_extension": ".py",
   "mimetype": "text/x-python",
   "name": "python",
   "nbconvert_exporter": "python",
   "pygments_lexer": "ipython2",
   "version": "2.7.6"
  }
 },
 "nbformat": 4,
 "nbformat_minor": 0
}
